{
 "cells": [
  {
   "cell_type": "markdown",
   "id": "4316efd6281b808e",
   "metadata": {
    "collapsed": false,
    "jupyter": {
     "outputs_hidden": false
    }
   },
   "source": [
    "# Pipeline\n",
    "\n",
    "Dans ce notebook nous allons définir notre pipeline de correction automatique de texte. Il sera composé de 3 étapes :\n",
    "- Reconnaissance vocale\n",
    "- Correction du texte\n",
    "- Synthèse vocale\n",
    "\n",
    "En se basant sur les notebook créé pour chacun des modèles, nous allons créer un pipeline qui prendra en entrée un fichier audio et qui retournera un fichier audio avec le texte corrigé."
   ]
  },
  {
   "cell_type": "markdown",
   "id": "61f5ed4d87b29350",
   "metadata": {
    "collapsed": false,
    "jupyter": {
     "outputs_hidden": false
    }
   },
   "source": [
    "## Import des dépendances"
   ]
  },
  {
   "cell_type": "code",
   "execution_count": null,
   "id": "initial_id",
   "metadata": {
    "ExecuteTime": {
     "start_time": "2023-12-19T19:22:43.527765800Z"
    },
    "collapsed": false,
    "jupyter": {
     "outputs_hidden": false
    }
   },
   "outputs": [
    {
     "name": "stderr",
     "output_type": "stream",
     "text": [
      "\n",
      "[notice] A new release of pip is available: 23.2.1 -> 23.3.2\n",
      "[notice] To update, run: python.exe -m pip install --upgrade pip\n"
     ]
    },
    {
     "name": "stdout",
     "output_type": "stream",
     "text": [
      "importing Jupyter notebook from GEC.ipynb\n",
      "importing Jupyter notebook from TTS.ipynb\n"
     ]
    }
   ],
   "source": [
    "!pip install -U -q import_ipynb\n",
    "import import_ipynb, os, pyaudio, wave\n",
    "\n",
    "import IPython.display as ipd\n",
    "\n",
    "from tkinter import Tk\n",
    "from tkinter.filedialog import askopenfilename\n",
    "from transformers import pipeline\n",
    "\n",
    "# Import des notebooks\n",
    "from GEC import GEC\n",
    "from TTS import TTS"
   ]
  },
  {
   "cell_type": "markdown",
   "id": "de1cf293e3c9a011",
   "metadata": {
    "collapsed": false,
    "jupyter": {
     "outputs_hidden": false
    }
   },
   "source": [
    "## Définition des paramètres\n",
    "\n",
    "Préparation de l'interface pour récupérer le fichier audio, et récupération du modèle ASR sur HuggingFace."
   ]
  },
  {
   "cell_type": "code",
   "execution_count": null,
   "id": "83f32931f4b887e5",
   "metadata": {
    "ExecuteTime": {
     "end_time": "2023-12-19T19:22:58.393767500Z",
     "start_time": "2023-12-19T19:22:57.201658Z"
    },
    "collapsed": false,
    "jupyter": {
     "outputs_hidden": false
    }
   },
   "outputs": [],
   "source": [
    "ASR = pipeline(\"automatic-speech-recognition\", model=\"EliseB/whisper-base-dv\")\n",
    "\n",
    "# Gestion de la fenêtre de dialogue\n",
    "root = Tk()\n",
    "root.withdraw()\n",
    "root.call('wm', 'attributes', '.', '-topmost', True)\n",
    "\n",
    "speech_file = askopenfilename(initialdir=\"C:/Users/virtu/Documents/Enregistrements audio\")\n",
    "display(ipd.Audio(filename=speech_file))\n",
    "root.destroy()\n",
    "\n",
    "%gui tk"
   ]
  },
  {
   "cell_type": "markdown",
   "id": "6e9abad67affde53",
   "metadata": {
    "collapsed": false,
    "jupyter": {
     "outputs_hidden": false
    }
   },
   "source": [
    "## Reconnaissance vocale\n",
    "\n",
    "Appel de notre modèle pré-entrainé pour la reconnaissance vocale, avec Whisper."
   ]
  },
  {
   "cell_type": "code",
   "execution_count": null,
   "id": "13d5e1aa15d83fd2",
   "metadata": {
    "ExecuteTime": {
     "end_time": "2023-12-19T19:23:07.171366600Z",
     "start_time": "2023-12-19T19:22:58.398775100Z"
    },
    "collapsed": false,
    "jupyter": {
     "outputs_hidden": false
    }
   },
   "outputs": [],
   "source": [
    "# Appel du module ASR\n",
    "text = ASR(speech_file)['text']"
   ]
  },
  {
   "cell_type": "markdown",
   "id": "84b8215eacbed060",
   "metadata": {
    "collapsed": false,
    "jupyter": {
     "outputs_hidden": false
    }
   },
   "source": [
    "## Correction du texte\n",
    "\n",
    "Appel de notre modèle pré-entrainé pour la correction du texte, avec T5."
   ]
  },
  {
   "cell_type": "code",
   "execution_count": null,
   "id": "7cf666803458bc91",
   "metadata": {
    "ExecuteTime": {
     "end_time": "2023-12-19T19:23:13.136725100Z",
     "start_time": "2023-12-19T19:23:07.253388600Z"
    },
    "collapsed": false,
    "jupyter": {
     "outputs_hidden": false
    }
   },
   "outputs": [],
   "source": [
    "corrected_text = GEC(text)"
   ]
  },
  {
   "cell_type": "markdown",
   "id": "1f8f76d2978df01f",
   "metadata": {
    "collapsed": false,
    "jupyter": {
     "outputs_hidden": false
    }
   },
   "source": [
    "## Synthèse vocale\n",
    "\n",
    "Appel de notre modèle pré-entrainé pour la synthèse vocale, avec gTTS."
   ]
  },
  {
   "cell_type": "code",
   "execution_count": null,
   "id": "c1257f06d0725404",
   "metadata": {
    "collapsed": false,
    "jupyter": {
     "outputs_hidden": false
    }
   },
   "outputs": [],
   "source": [
    "audio, rate = TTS(corrected_text)\n",
    "ipd.Audio(audio, rate=rate)"
   ]
  },
  {
   "cell_type": "code",
   "execution_count": null,
   "id": "4ae556a9-093d-46e9-bb16-64ff0cec70b9",
   "metadata": {},
   "outputs": [],
   "source": []
  }
 ],
 "metadata": {
  "kernelspec": {
   "display_name": "Python 3 (ipykernel)",
   "language": "python",
   "name": "python3"
  },
  "language_info": {
   "codemirror_mode": {
    "name": "ipython",
    "version": 3
   },
   "file_extension": ".py",
   "mimetype": "text/x-python",
   "name": "python",
   "nbconvert_exporter": "python",
   "pygments_lexer": "ipython3",
   "version": "3.10.11"
  }
 },
 "nbformat": 4,
 "nbformat_minor": 5
}
